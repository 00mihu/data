{
 "cells": [
  {
   "cell_type": "code",
   "execution_count": 1,
   "id": "b63e8b74-153a-47f3-b655-3e2c9364cc75",
   "metadata": {},
   "outputs": [
    {
     "name": "stdout",
     "output_type": "stream",
     "text": [
      "Requirement already satisfied: pandas in c:\\users\\48739\\anaconda3\\lib\\site-packages (2.1.4)Note: you may need to restart the kernel to use updated packages.\n",
      "\n",
      "Collecting pandas\n",
      "  Downloading pandas-2.2.2-cp311-cp311-win_amd64.whl.metadata (19 kB)\n",
      "Requirement already satisfied: numpy>=1.23.2 in c:\\users\\48739\\anaconda3\\lib\\site-packages (from pandas) (1.26.4)\n",
      "Requirement already satisfied: python-dateutil>=2.8.2 in c:\\users\\48739\\anaconda3\\lib\\site-packages (from pandas) (2.8.2)\n",
      "Requirement already satisfied: pytz>=2020.1 in c:\\users\\48739\\anaconda3\\lib\\site-packages (from pandas) (2023.3.post1)\n",
      "Requirement already satisfied: tzdata>=2022.7 in c:\\users\\48739\\anaconda3\\lib\\site-packages (from pandas) (2023.3)\n",
      "Requirement already satisfied: six>=1.5 in c:\\users\\48739\\anaconda3\\lib\\site-packages (from python-dateutil>=2.8.2->pandas) (1.16.0)\n",
      "Downloading pandas-2.2.2-cp311-cp311-win_amd64.whl (11.6 MB)\n",
      "   ---------------------------------------- 0.0/11.6 MB ? eta -:--:--\n",
      "   ---------------------------------------- 0.0/11.6 MB 682.7 kB/s eta 0:00:18\n",
      "    --------------------------------------- 0.2/11.6 MB 2.2 MB/s eta 0:00:06\n",
      "   -- ------------------------------------- 0.6/11.6 MB 4.7 MB/s eta 0:00:03\n",
      "   --- ------------------------------------ 1.2/11.6 MB 6.7 MB/s eta 0:00:02\n",
      "   ------- -------------------------------- 2.0/11.6 MB 9.3 MB/s eta 0:00:02\n",
      "   -------- ------------------------------- 2.5/11.6 MB 9.4 MB/s eta 0:00:01\n",
      "   ----------- ---------------------------- 3.5/11.6 MB 11.1 MB/s eta 0:00:01\n",
      "   ---------------- ----------------------- 4.8/11.6 MB 13.4 MB/s eta 0:00:01\n",
      "   ------------------- -------------------- 5.7/11.6 MB 14.0 MB/s eta 0:00:01\n",
      "   ---------------------- ----------------- 6.4/11.6 MB 14.6 MB/s eta 0:00:01\n",
      "   ------------------------- -------------- 7.4/11.6 MB 15.2 MB/s eta 0:00:01\n",
      "   ---------------------------- ----------- 8.3/11.6 MB 15.6 MB/s eta 0:00:01\n",
      "   --------------------------------- ------ 9.6/11.6 MB 17.1 MB/s eta 0:00:01\n",
      "   ------------------------------------- -- 10.8/11.6 MB 21.1 MB/s eta 0:00:01\n",
      "   ---------------------------------------  11.6/11.6 MB 22.6 MB/s eta 0:00:01\n",
      "   ---------------------------------------- 11.6/11.6 MB 21.1 MB/s eta 0:00:00\n",
      "Installing collected packages: pandas\n",
      "  Attempting uninstall: pandas\n",
      "    Found existing installation: pandas 2.1.4\n",
      "    Uninstalling pandas-2.1.4:\n",
      "      Successfully uninstalled pandas-2.1.4\n",
      "Successfully installed pandas-2.2.2\n"
     ]
    }
   ],
   "source": [
    "pip install --upgrade pandas"
   ]
  },
  {
   "cell_type": "code",
   "execution_count": 1,
   "id": "d8af8a88-9150-43cd-82cc-8ff0db830515",
   "metadata": {},
   "outputs": [],
   "source": [
    "import pandas as pd"
   ]
  },
  {
   "cell_type": "code",
   "execution_count": 3,
   "id": "e0d67e46-6fff-4a40-93d9-24bf505eadca",
   "metadata": {},
   "outputs": [
    {
     "name": "stderr",
     "output_type": "stream",
     "text": [
      "'[dataframe]' is not recognized as an internal or external command,\n",
      "operable program or batch file.\n"
     ]
    }
   ],
   "source": [
    "![dataframe](images/01_table_dataframe.svg)"
   ]
  },
  {
   "cell_type": "code",
   "execution_count": null,
   "id": "dae29e1e-ede0-4c7c-832e-6721a518dfbd",
   "metadata": {},
   "outputs": [],
   "source": [
    "#creating datase\n",
    "name = ['Braund', 'Allen', 'Bonnel']\n",
    "age = [22, 35, 58]\n",
    "sex = ['male', 'male', 'female']"
   ]
  }
 ],
 "metadata": {
  "kernelspec": {
   "display_name": "Python 3 (ipykernel)",
   "language": "python",
   "name": "python3"
  },
  "language_info": {
   "codemirror_mode": {
    "name": "ipython",
    "version": 3
   },
   "file_extension": ".py",
   "mimetype": "text/x-python",
   "name": "python",
   "nbconvert_exporter": "python",
   "pygments_lexer": "ipython3",
   "version": "3.11.7"
  }
 },
 "nbformat": 4,
 "nbformat_minor": 5
}
